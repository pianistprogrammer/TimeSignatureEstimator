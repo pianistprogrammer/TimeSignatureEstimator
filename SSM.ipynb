{
 "cells": [
  {
   "cell_type": "code",
   "execution_count": 3,
   "metadata": {},
   "outputs": [],
   "source": [
    "from libfmp.b import FloatingBox\n",
    "import numpy as np\n",
    "import os\n",
    "import sys\n",
    "import librosa\n",
    "from scipy import signal\n",
    "from matplotlib import pyplot as plt\n",
    "import matplotlib.gridspec as gridspec\n",
    "import IPython.display as ipd\n",
    "import pandas as pd\n",
    "from numba import jit\n",
    "\n",
    "import libfmp.c6\n",
    "import libfmp.c4\n",
    "import libfmp.c3\n",
    "import libfmp.c2\n",
    "import libfmp.b\n",
    "\n",
    "sys.path.append('..')"
   ]
  },
  {
   "cell_type": "code",
   "execution_count": 11,
   "metadata": {},
   "outputs": [
    {
     "name": "stdout",
     "output_type": "stream",
     "text": [
      "[[  0.   1.   2. ...  97.  98.  99.]\n",
      " [100.  99.  98. ...   3.   2.   1.]\n",
      " [  0.   0.   0. ...   0.   0.   0.]\n",
      " [  0.   0.   0. ...   0.   0.   0.]]\n",
      "[[  0. 100.   0.   0.]\n",
      " [  1.  99.   0.   0.]\n",
      " [  2.  98.   0.   0.]\n",
      " ...\n",
      " [ 97.   3.   0.   0.]\n",
      " [ 98.   2.   0.   0.]\n",
      " [ 99.   1.   0.   0.]]\n"
     ]
    }
   ],
   "source": [
    "# Generate normalized feature sequence\n",
    "K = 4\n",
    "M = 100\n",
    "r = np.arange(M)\n",
    "b1 = np.zeros((K, M))\n",
    "b1[0, :] = r\n",
    "b1[1, :] = M-r\n",
    "b2 = np.ones((K, M))\n",
    "\n",
    "X = np.concatenate((b1, b1, np.roll(b1, 2, axis=0), b2, b1), axis=1)\n",
    " \n",
    "Y = np.transpose(X)\n",
    " \n",
    "#X = libfmp.c3.normalize_feature_sequence(X, norm='2', threshold=0.001)"
   ]
  },
  {
   "cell_type": "code",
   "execution_count": 12,
   "metadata": {},
   "outputs": [
    {
     "name": "stdout",
     "output_type": "stream",
     "text": [
      "[[10000.  9900.  9800. ...   300.   200.   100.]\n",
      " [ 9900.  9802.  9704. ...   394.   296.   198.]\n",
      " [ 9800.  9704.  9608. ...   488.   392.   296.]\n",
      " ...\n",
      " [  300.   394.   488. ...  9418.  9512.  9606.]\n",
      " [  200.   296.   392. ...  9512.  9608.  9704.]\n",
      " [  100.   198.   296. ...  9606.  9704.  9802.]]\n"
     ]
    }
   ],
   "source": [
    "# Compute SSM\n",
    "S = np.dot(Y, X)\n",
    "print(S)"
   ]
  },
  {
   "cell_type": "code",
   "execution_count": null,
   "metadata": {},
   "outputs": [],
   "source": []
  }
 ],
 "metadata": {
  "kernelspec": {
   "display_name": "Python 3",
   "language": "python",
   "name": "python3"
  },
  "language_info": {
   "codemirror_mode": {
    "name": "ipython",
    "version": 3
   },
   "file_extension": ".py",
   "mimetype": "text/x-python",
   "name": "python",
   "nbconvert_exporter": "python",
   "pygments_lexer": "ipython3",
   "version": "3.7.7"
  }
 },
 "nbformat": 4,
 "nbformat_minor": 2
}
