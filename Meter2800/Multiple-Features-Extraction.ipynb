{
 "cells": [
  {
   "cell_type": "code",
   "execution_count": 4,
   "id": "fa9c437a-155b-43c1-b456-a79fa10494d7",
   "metadata": {},
   "outputs": [],
   "source": [
    "import os\n",
    "import csv\n",
    "from operator import index\n",
    "import math\n",
    "import pandas as pd\n",
    "import json\n",
    "import numpy as np\n",
    "import matplotlib.pyplot as plt\n",
    "import librosa\n",
    "import librosa.display\n",
    "import IPython.display as ipd\n",
    "from sklearn.metrics import pairwise_distances\n",
    "from sklearn.preprocessing import normalize\n",
    "import warnings\n",
    "from sklearn.model_selection import train_test_split\n",
    "\n",
    "plt.rcParams['figure.figsize'] = (12, 8)\n",
    "\n",
    "sample_rate = 22050\n",
    "duration = 30  # mesaured in seconds\n",
    "samples_per_track = sample_rate * duration"
   ]
  },
  {
   "cell_type": "code",
   "execution_count": 5,
   "id": "8a881668-ee2e-4f39-b014-1fa4e1cf7edf",
   "metadata": {},
   "outputs": [],
   "source": [
    "def read_dataset_only_metre():\n",
    "    data = pd.read_csv(\"../data.csv\")\n",
    "    data = data[data.meter.notnull()]\n",
    "    return data"
   ]
  },
  {
   "cell_type": "code",
   "execution_count": 6,
   "id": "b31a438d-d2e4-4f18-98a6-4b3fb2f3e008",
   "metadata": {},
   "outputs": [
    {
     "name": "stderr",
     "output_type": "stream",
     "text": [
      "/Users/pianistprogrammer/opt/anaconda3/lib/python3.9/site-packages/librosa/core/pitch.py:153: UserWarning: Trying to estimate tuning from empty frequency set.\n",
      "  warnings.warn(\"Trying to estimate tuning from empty frequency set.\")\n"
     ]
    }
   ],
   "source": [
    "def extract_melspectrogram(n_mfcc=13, hop_length=512, n_fft=2048, num_segments=5):\n",
    "    # dictionary to store the data\n",
    "    header = 'filename chroma_stft_avg chroma_stft_min chroma_stft_max chroma_stft_mid chroma_stft_std' \n",
    "    header+= ' rmse_avg rmse_min rmse_max rmse_mid rmse_std'\n",
    "    header+= ' spectral_cent_avg spectral_cent_min spectral_cent_max spectral_cent_mid spectral_cent_std'\n",
    "    header+= ' spectral_band_avg spectral_band_min spectral_band_max spectral_band_mid spectral_band_std'\n",
    "    header+= ' rolloff_avg rolloff_min rolloff_max rolloff_mid rolloff_std'\n",
    "    header+= ' zero_crossing_avg zero_crossing_min zero_crossing_max zero_crossing_mid zero_crossing_std'\n",
    "    for i in range(1, 14):\n",
    "        header += f' mfcc_avg{i} mfcc_min{i} mfcc_max{i} mfcc_mid{i} mfcc_std{i}'\n",
    "    header += ' label'\n",
    "    header = header.split()\n",
    "\n",
    "    file = open('../multiple_features.csv', 'w', newline='')\n",
    "    with file:\n",
    "        writer = csv.writer(file)\n",
    "        writer.writerow(header)\n",
    "        \n",
    "    num_samples_per_segment = int(samples_per_track / num_segments)\n",
    "    expected_num_vectors_per_segment = math.ceil(num_samples_per_segment / hop_length)\n",
    "    \n",
    "    # loop through all songs\n",
    "    alldata = read_dataset_only_metre()\n",
    "    \n",
    "    data = alldata.groupby(['meter'])\n",
    "    \n",
    "    for meter, group in data:\n",
    "        for index, song in group.iterrows():\n",
    "            path = os.path.relpath(\"../../Data/genres_original\" + song.path)\n",
    "            signal, sr = librosa.load(path, sr=sample_rate)\n",
    "            \n",
    "            for s in range(num_segments):\n",
    "                start_sample = num_samples_per_segment * s\n",
    "                finish_sample = start_sample + num_samples_per_segment\n",
    "                chroma_stft = librosa.feature.chroma_stft(signal[start_sample:finish_sample], sr=sr)\n",
    "                rmse = librosa.feature.rms(signal[start_sample:finish_sample])\n",
    "                spec_cent = librosa.feature.spectral_centroid(signal[start_sample:finish_sample], sr=sr)\n",
    "                spec_bw = librosa.feature.spectral_bandwidth(signal[start_sample:finish_sample], sr=sr)\n",
    "                rolloff = librosa.feature.spectral_rolloff(signal[start_sample:finish_sample], sr=sr)\n",
    "                zcr = librosa.feature.zero_crossing_rate(signal[start_sample:finish_sample])\n",
    "                mfcc = librosa.feature.mfcc(signal[start_sample:finish_sample], n_mfcc=n_mfcc, sr=sr)\n",
    "                to_append = f'{song.path+str(s)} {np.mean(chroma_stft)} {np.min(chroma_stft)} {np.max(chroma_stft)} {np.median(chroma_stft)} {np.std(chroma_stft)}'\n",
    "                to_append += f' {np.mean(rmse)} {np.min(rmse)} {np.max(rmse)} {np.median(rmse)} {np.std(rmse)}' \n",
    "                to_append += f' {np.mean(spec_cent)} {np.min(spec_cent)} {np.max(spec_cent)} {np.median(spec_cent)} {np.std(spec_cent)} '\n",
    "                to_append += f' {np.mean(spec_bw)} {np.min(spec_bw)} {np.max(spec_bw)} {np.median(spec_bw)} {np.std(spec_bw)}'\n",
    "                to_append += f' {np.mean(rolloff)} {np.min(rolloff)} {np.max(rolloff)} {np.median(rolloff)} {np.std(rolloff)}' \n",
    "                to_append += f' {np.mean(zcr)} {np.min(zcr)} {np.max(zcr)} {np.median(zcr)} {np.std(zcr)}'    \n",
    "                for e in mfcc:\n",
    "                    to_append += f' {np.mean(e)} {np.min(e)} {np.max(e)} {np.median(e)} {np.std(e)}'\n",
    "                to_append += f' {song.meter}'\n",
    "                file = open('../multiple_features.csv', 'a', newline='')\n",
    "                with file:\n",
    "                    writer = csv.writer(file)\n",
    "                    writer.writerow(to_append.split())\n",
    "                \n",
    "        \n",
    "extract_melspectrogram(num_segments=3)"
   ]
  }
 ],
 "metadata": {
  "kernelspec": {
   "display_name": "Python 3 (ipykernel)",
   "language": "python",
   "name": "python3"
  },
  "language_info": {
   "codemirror_mode": {
    "name": "ipython",
    "version": 3
   },
   "file_extension": ".py",
   "mimetype": "text/x-python",
   "name": "python",
   "nbconvert_exporter": "python",
   "pygments_lexer": "ipython3",
   "version": "3.9.12"
  }
 },
 "nbformat": 4,
 "nbformat_minor": 5
}
