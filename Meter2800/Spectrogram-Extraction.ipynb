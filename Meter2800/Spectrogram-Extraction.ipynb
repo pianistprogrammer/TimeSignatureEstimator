{
 "cells": [
  {
   "cell_type": "code",
   "execution_count": 1,
   "id": "fa9c437a-155b-43c1-b456-a79fa10494d7",
   "metadata": {},
   "outputs": [],
   "source": [
    "import os\n",
    "from operator import index\n",
    "import math\n",
    "import pandas as pd\n",
    "import json\n",
    "import numpy as np\n",
    "import matplotlib.pyplot as plt\n",
    "import librosa\n",
    "import librosa.display\n",
    "import IPython.display as ipd\n",
    "from sklearn.metrics import pairwise_distances\n",
    "from sklearn.preprocessing import normalize\n",
    "import warnings\n",
    "from sklearn.model_selection import train_test_split\n",
    "\n",
    "plt.rcParams['figure.figsize'] = (10, 4)\n",
    "folder_path = \"../Spectrogram_Npy/\"\n",
    "sample_rate = 22050\n",
    "duration = 30  # mesaured in seconds\n",
    "samples_per_track = sample_rate * duration"
   ]
  },
  {
   "cell_type": "code",
   "execution_count": 2,
   "id": "8a881668-ee2e-4f39-b014-1fa4e1cf7edf",
   "metadata": {},
   "outputs": [],
   "source": [
    "def read_dataset():\n",
    "    data = pd.read_csv(\"../data.csv\")\n",
    "    data = data[data.meter.notnull()]\n",
    "    return data"
   ]
  },
  {
   "cell_type": "code",
   "execution_count": 3,
   "id": "b31a438d-d2e4-4f18-98a6-4b3fb2f3e008",
   "metadata": {},
   "outputs": [],
   "source": [
    "def extract_spectrogram_array(num_segments=10):\n",
    "   \n",
    "    # loop through all songs\n",
    "    alldata = read_dataset()\n",
    "    num_samples_per_segment = int(samples_per_track / num_segments)\n",
    "    \n",
    "    data = alldata.groupby(['meter'])\n",
    "    \n",
    "    for meter, group in data:\n",
    "        if not os.path.exists(str(folder_path + meter)):\n",
    "            os.makedirs(os.path.join(folder_path, str(meter)))\n",
    "            \n",
    "        for index, song in group.iterrows():\n",
    "            \n",
    "            path = os.path.relpath(\"../audio_files\" + song.path)\n",
    "            signal, sr = librosa.load(path, sr=sample_rate)\n",
    "            \n",
    "            for s in range(num_segments):\n",
    "                start_sample = num_samples_per_segment * s\n",
    "                finish_sample = start_sample + num_samples_per_segment\n",
    "                \n",
    "                spec = np.abs(librosa.stft(signal[start_sample:finish_sample]))\n",
    "                \n",
    "                spectrogram = librosa.amplitude_to_db(spec, ref=np.max)\n",
    "                \n",
    "                file_name = \"spec\"+ str(index) + '-'+str(s)+\".npy\"\n",
    "                full_name = os.path.join(folder_path, str(meter), file_name)\n",
    "                np.save(full_name, spectrogram)\n",
    "        \n",
    "extract_spectrogram_array()"
   ]
  }
 ],
 "metadata": {
  "kernelspec": {
   "display_name": "Python 3 (ipykernel)",
   "language": "python",
   "name": "python3"
  },
  "language_info": {
   "codemirror_mode": {
    "name": "ipython",
    "version": 3
   },
   "file_extension": ".py",
   "mimetype": "text/x-python",
   "name": "python",
   "nbconvert_exporter": "python",
   "pygments_lexer": "ipython3",
   "version": "3.9.12"
  }
 },
 "nbformat": 4,
 "nbformat_minor": 5
}
