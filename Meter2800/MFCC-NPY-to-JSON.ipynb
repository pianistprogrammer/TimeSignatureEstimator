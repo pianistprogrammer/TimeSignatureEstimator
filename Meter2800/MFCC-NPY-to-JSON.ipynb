{
 "cells": [
  {
   "cell_type": "code",
   "execution_count": null,
   "id": "9b00d411-33d6-4700-8cc8-5eaac1c70784",
   "metadata": {},
   "outputs": [],
   "source": [
    "import os\n",
    "import json\n",
    "import numpy as np\n",
    "import matplotlib.pyplot as plt\n",
    "import IPython.display as ipd\n",
    "import warnings\n",
    "\n",
    "npy_path = \"../MFCC_NPY\"\n",
    "json_path = \"data.json\"\n",
    "labels_mapping = {\"four\": 0, \"three\": 1, \"five\": 2, \"seven\": 3}\n",
    "\n",
    "data = {\"mfcc\": [], \"labels\": []}\n",
    "\n",
    "for subfolder in os.listdir(npy_path):\n",
    "    subfolder_path = os.path.join(npy_path, subfolder)\n",
    "    if os.path.isdir(subfolder_path):\n",
    "        for file in os.listdir(subfolder_path):\n",
    "            if file.endswith(\".npy\"):\n",
    "                file_path = os.path.join(subfolder_path, file)\n",
    "                mfcc = np.load(file_path).T.tolist()\n",
    "                data[\"mfcc\"].append(mfcc)\n",
    "                label = labels_mapping.get(subfolder, -1)\n",
    "                data[\"labels\"].append(label)\n",
    "\n",
    "with open(json_path, \"w\") as fp:\n",
    "    json.dump(data, fp, indent=4) "
   ]
  },
  {
   "cell_type": "code",
   "execution_count": null,
   "id": "c89585fe",
   "metadata": {},
   "outputs": [],
   "source": []
  }
 ],
 "metadata": {
  "kernelspec": {
   "display_name": "Python 3 (ipykernel)",
   "language": "python",
   "name": "python3"
  },
  "language_info": {
   "codemirror_mode": {
    "name": "ipython",
    "version": 3
   },
   "file_extension": ".py",
   "mimetype": "text/x-python",
   "name": "python",
   "nbconvert_exporter": "python",
   "pygments_lexer": "ipython3",
   "version": "3.9.12"
  }
 },
 "nbformat": 4,
 "nbformat_minor": 5
}
