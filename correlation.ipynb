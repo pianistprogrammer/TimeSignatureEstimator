{
 "cells": [
  {
   "cell_type": "code",
   "execution_count": 108,
   "metadata": {},
   "outputs": [],
   "source": [
    "# import modules\n",
    "import librosa\n",
    "import librosa.display\n",
    "import IPython.display as ipd\n",
    "import matplotlib.pyplot as plt\n",
    "import scipy.signal\n",
    "from scipy import stats\n",
    "from scipy.io import wavfile\n",
    "import numpy as np\n",
    "import math\n",
    "from sklearn.metrics import pairwise_distances\n",
    "\n",
    "bandLimits = [0, 200, 400, 800, 1600, 3200, 6400]    \n",
    "combFilterPulses = 8\n",
    "minBpm = 60\n",
    "maxBpm = 240"
   ]
  },
  {
   "cell_type": "code",
   "execution_count": 109,
   "metadata": {},
   "outputs": [],
   "source": [
    "y, sr = librosa.load('Data/genres_original/pop/pop.00001.wav', offset=10)\n",
    "y_comp, sr = librosa.load('Data/genres_original/pop/pop.00001.wav', offset=20) \n",
    "\n",
    "# y, sr = librosa.load('RileyKaraoke.wav', offset=20, duration=20)\n",
    "# y_comp, sr = librosa.load('RileyKaraoke.wav', offset=10, duration=20) "
   ]
  },
  {
   "cell_type": "code",
   "execution_count": 110,
   "metadata": {},
   "outputs": [
    {
     "name": "stderr",
     "output_type": "stream",
     "text": [
      "/Users/pianistprogrammer/anaconda3/lib/python3.7/site-packages/scipy/sparse/lil.py:512: FutureWarning: future versions will not create a writeable array from broadcast_array. Set the writable flag explicitly to avoid this warning.\n",
      "  if not i.flags.writeable or i.dtype not in (np.int32, np.int64):\n",
      "/Users/pianistprogrammer/anaconda3/lib/python3.7/site-packages/scipy/sparse/lil.py:514: FutureWarning: future versions will not create a writeable array from broadcast_array. Set the writable flag explicitly to avoid this warning.\n",
      "  if not j.flags.writeable or j.dtype not in (np.int32, np.int64):\n"
     ]
    }
   ],
   "source": [
    "tempo, beat_times = librosa.beat.beat_track(y, sr=sr, units='time')\n",
    "tempo, comp_beat_times = librosa.beat.beat_track(y_comp, sr=sr, units='time')\n",
    "\n",
    "hop_length = 512\n",
    "frame_length = 1024\n",
    " \n",
    "chroma_ref = librosa.feature.chroma_cqt(y=y, sr=sr, hop_length=hop_length)\n",
    "chroma_comp = librosa.feature.chroma_cqt(y=y_comp, sr=sr, hop_length=hop_length)\n",
    "\n",
    "mfcc_ref = librosa.feature.mfcc(y=y, sr=sr, hop_length=hop_length)\n",
    "mfcc_comp = librosa.feature.mfcc(y=y_comp, sr=sr, hop_length=hop_length)\n",
    "\n",
    "# Use time-delay embedding to get a cleaner recurrence matrix\n",
    "x_ref = librosa.feature.stack_memory(chroma_ref, n_steps=10, delay=3)\n",
    "x_comp = librosa.feature.stack_memory(chroma_comp, n_steps=10, delay=3)"
   ]
  },
  {
   "cell_type": "code",
   "execution_count": 114,
   "metadata": {},
   "outputs": [],
   "source": [
    "#  corr = scipy.correlate(beat_times, comp_beat_times,  mode='full')\n",
    "# corr = librosa.segment.cross_similarity(chroma_ref, chroma_comp, metric='cosine', mode='distance')\n",
    "# corr\n",
    "corr =  1-pairwise_distances(mfcc_ref, metric=\"cosine\")\n",
    " "
   ]
  },
  {
   "cell_type": "code",
   "execution_count": 105,
   "metadata": {},
   "outputs": [],
   "source": [
    "def detect_tempo(signal, accuracy: int, minBpm: int, maxBpm: int, bandsLimits, sr,\n",
    "                     combFilterPulses):\n",
    "        n = len(signal[0])\n",
    "        bands_amount = len(bandsLimits)\n",
    "        dft = np.zeros([bands_amount, n], dtype=complex)\n",
    "\n",
    "        if minBpm < 60:\n",
    "            minBpm = 60\n",
    "\n",
    "        if maxBpm > 240:\n",
    "            maxBpm = 240\n",
    "\n",
    "        for band in range(0, bands_amount):\n",
    "            dft[band] = np.fft.fft(signal[band])\n",
    "\n",
    "        maxEnergy = 0\n",
    "        for bpm in range(minBpm, maxBpm, accuracy):\n",
    "            this_bpm_energy = 0\n",
    "            fil = np.zeros(n)\n",
    "\n",
    "            filter_step = np.floor(60 / bpm * sr)\n",
    "            percent_done = 100 * (bpm - minBpm) / (maxBpm - minBpm)\n",
    "            print(\"%.2f\" % percent_done, \"%\")\n",
    "\n",
    "            for a in range(0, combFilterPulses):\n",
    "                fil[a * int(filter_step) + 1] = 1\n",
    "\n",
    "            dftfil = np.fft.fft(fil)\n",
    "\n",
    "            for band in range(0, bands_amount):\n",
    "                x = (abs(dftfil * dft[band])) ** 2\n",
    "                this_bpm_energy = this_bpm_energy + sum(x)\n",
    "\n",
    "            if this_bpm_energy > maxEnergy:\n",
    "                songBpm = bpm\n",
    "                maxEnergy = this_bpm_energy\n",
    "\n",
    "        return songBpm"
   ]
  },
  {
   "cell_type": "code",
   "execution_count": 111,
   "metadata": {},
   "outputs": [],
   "source": [
    "__methods = []\n",
    "    \n",
    "def detect_metre(signal, tempo: int, bandlimits, sr):\n",
    "        nbands = len(bandlimits)\n",
    "\n",
    "        __methods.append(__five_forth)\n",
    "        __methods.append(__four_forth)\n",
    "        __methods.append(__six_eigth)\n",
    "        __methods.append(__three_forth)\n",
    "\n",
    "        metres = {}\n",
    "        for method in __methods:\n",
    "            metre, metre_dft = method(tempo, sr)\n",
    "            metres[metre] = metre_dft\n",
    "\n",
    "        maxe = 0\n",
    "        done = 0\n",
    "        todo = len(metres.keys())\n",
    "        for metrum in metres:\n",
    "            done += 1\n",
    "            percent_done = 100 * done / todo\n",
    "            print(\"%.2f\" % percent_done, \"%\")\n",
    "\n",
    "            e = 0\n",
    "            for band in range(0, nbands):\n",
    "                filt = scipy.correlate(signal[band], metres[metrum])\n",
    "                f_filt = abs(np.fft.fft(filt))\n",
    "                x = abs(f_filt) ** 2\n",
    "                e = e + sum(x)\n",
    "\n",
    "            if e > maxe:\n",
    "                song_metre = metrum\n",
    "                maxe = e\n",
    "\n",
    "        return song_metre\n",
    "    \n",
    "def __four_forth(song_tempo: int, sampling_frequency: int):\n",
    "        fil = np.zeros(int(4 * sampling_frequency * (60 / song_tempo)))\n",
    "        nstep = np.floor(60 / song_tempo * sampling_frequency)\n",
    "\n",
    "        value = 1 / 2\n",
    "        fil[int(1 * nstep)] = 1 * value\n",
    "        fil[int(3 * nstep)] = 1 * value\n",
    "\n",
    "        return \"4\\\\4\", fil\n",
    "\n",
    "def __three_forth(song_tempo: int, sampling_frequency: int):\n",
    "        fil = np.zeros(int(6 * sampling_frequency * (60 / song_tempo)))\n",
    "        nstep = np.floor(60 / song_tempo * sampling_frequency)\n",
    "\n",
    "        value = 1 / 2\n",
    "        fil[int(2 * nstep)] = 1 * value\n",
    "        fil[int(5 * nstep)] = 1 * value\n",
    "\n",
    "        return \"3\\\\4\", fil\n",
    "\n",
    "def __five_forth(song_tempo: int, sampling_frequency: int):\n",
    "        fil = np.zeros(int(5 * sampling_frequency * (60 / song_tempo)))\n",
    "        nstep = np.floor(60 / song_tempo * sampling_frequency)\n",
    "\n",
    "        value = 1 / 3\n",
    "        fil[int(1 * nstep)] = 1 * value\n",
    "        fil[int(3 * nstep)] = 1 * value\n",
    "        fil[int(4 * nstep)] = 1 * value\n",
    "\n",
    "        return \"5\\\\4\", fil\n",
    "\n",
    "def __six_eigth(song_tempo: int, sampling_frequency: int):\n",
    "        fil = np.zeros(int(3 * sampling_frequency * (60 / song_tempo)))\n",
    "        nstep = np.floor((60 / song_tempo * sampling_frequency) / 2)\n",
    "\n",
    "        value = 1 / 2\n",
    "        fil[int(0 * nstep)] = 1 * value\n",
    "        fil[int(3 * nstep)] = 1 * value\n",
    "\n",
    "        return \"6\\\\8\", fil"
   ]
  },
  {
   "cell_type": "code",
   "execution_count": 115,
   "metadata": {},
   "outputs": [
    {
     "name": "stdout",
     "output_type": "stream",
     "text": [
      "25.00 %\n",
      "50.00 %\n",
      "75.00 %\n",
      "100.00 %\n",
      "meter is 3\\4\n"
     ]
    }
   ],
   "source": [
    "metre = detect_metre(corr, tempo, bandLimits, sr)\n",
    "print ('meter is', metre)"
   ]
  },
  {
   "cell_type": "code",
   "execution_count": null,
   "metadata": {},
   "outputs": [],
   "source": []
  }
 ],
 "metadata": {
  "kernelspec": {
   "display_name": "Python 3",
   "language": "python",
   "name": "python3"
  },
  "language_info": {
   "codemirror_mode": {
    "name": "ipython",
    "version": 3
   },
   "file_extension": ".py",
   "mimetype": "text/x-python",
   "name": "python",
   "nbconvert_exporter": "python",
   "pygments_lexer": "ipython3",
   "version": "3.7.7"
  }
 },
 "nbformat": 4,
 "nbformat_minor": 2
}
